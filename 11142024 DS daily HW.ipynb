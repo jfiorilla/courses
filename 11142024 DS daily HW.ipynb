{
 "cells": [
  {
   "cell_type": "markdown",
   "id": "76de84d3-e966-45c5-a576-4974505852a4",
   "metadata": {},
   "source": [
    "1) To make data readily accesible and widely shareable\n",
    "2) Version control is like mark changes in a word document, only more powerful in that every version you \"commit\" to github are stored indefinitely so you can always retrieve past iterations\n",
    "3) Using GitHub, one person can edit a file and \"commit/push\" that file to a repository and then create a \"pull request\" so the file is reviewed by others and potentially \"merged\" into the shared file on the repository. This allows edits from individuals that can be tracked back to their original "
   ]
  }
 ],
 "metadata": {
  "kernelspec": {
   "display_name": "Python 3 (ipykernel)",
   "language": "python",
   "name": "python3"
  },
  "language_info": {
   "codemirror_mode": {
    "name": "ipython",
    "version": 3
   },
   "file_extension": ".py",
   "mimetype": "text/x-python",
   "name": "python",
   "nbconvert_exporter": "python",
   "pygments_lexer": "ipython3",
   "version": "3.12.5"
  }
 },
 "nbformat": 4,
 "nbformat_minor": 5
}
